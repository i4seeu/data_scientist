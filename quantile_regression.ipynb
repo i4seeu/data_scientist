{
 "cells": [
  {
   "cell_type": "code",
   "execution_count": 1,
   "id": "22bf9486",
   "metadata": {},
   "outputs": [],
   "source": [
    "import pandas as pd\n",
    "import matplotlib.pyplot as plt\n",
    "from sklearn import datasets\n",
    "from sklearn import linear_model\n",
    "import numpy as np"
   ]
  },
  {
   "cell_type": "code",
   "execution_count": 2,
   "id": "f44f7175",
   "metadata": {},
   "outputs": [],
   "source": [
    "import statsmodels.formula.api as smf"
   ]
  },
  {
   "cell_type": "code",
   "execution_count": 3,
   "id": "2acad4a3",
   "metadata": {},
   "outputs": [],
   "source": [
    "# generate a random dataset with two variables\n",
    "df = pd.DataFrame(np.random.normal(0, 1, (100, 2)))\n",
    "df.columns = ['x', 'y']"
   ]
  },
  {
   "cell_type": "code",
   "execution_count": 4,
   "id": "f201df0d",
   "metadata": {},
   "outputs": [
    {
     "data": {
      "text/html": [
       "<div>\n",
       "<style scoped>\n",
       "    .dataframe tbody tr th:only-of-type {\n",
       "        vertical-align: middle;\n",
       "    }\n",
       "\n",
       "    .dataframe tbody tr th {\n",
       "        vertical-align: top;\n",
       "    }\n",
       "\n",
       "    .dataframe thead th {\n",
       "        text-align: right;\n",
       "    }\n",
       "</style>\n",
       "<table border=\"1\" class=\"dataframe\">\n",
       "  <thead>\n",
       "    <tr style=\"text-align: right;\">\n",
       "      <th></th>\n",
       "      <th>x</th>\n",
       "      <th>y</th>\n",
       "    </tr>\n",
       "  </thead>\n",
       "  <tbody>\n",
       "    <tr>\n",
       "      <th>0</th>\n",
       "      <td>0.590904</td>\n",
       "      <td>-1.502336</td>\n",
       "    </tr>\n",
       "    <tr>\n",
       "      <th>1</th>\n",
       "      <td>0.215687</td>\n",
       "      <td>1.652102</td>\n",
       "    </tr>\n",
       "    <tr>\n",
       "      <th>2</th>\n",
       "      <td>0.460612</td>\n",
       "      <td>-0.089260</td>\n",
       "    </tr>\n",
       "    <tr>\n",
       "      <th>3</th>\n",
       "      <td>1.648813</td>\n",
       "      <td>0.486073</td>\n",
       "    </tr>\n",
       "    <tr>\n",
       "      <th>4</th>\n",
       "      <td>-1.563885</td>\n",
       "      <td>0.848909</td>\n",
       "    </tr>\n",
       "  </tbody>\n",
       "</table>\n",
       "</div>"
      ],
      "text/plain": [
       "          x         y\n",
       "0  0.590904 -1.502336\n",
       "1  0.215687  1.652102\n",
       "2  0.460612 -0.089260\n",
       "3  1.648813  0.486073\n",
       "4 -1.563885  0.848909"
      ]
     },
     "execution_count": 4,
     "metadata": {},
     "output_type": "execute_result"
    }
   ],
   "source": [
    "df.head()"
   ]
  },
  {
   "cell_type": "code",
   "execution_count": 5,
   "id": "631d35e7",
   "metadata": {},
   "outputs": [],
   "source": [
    "# develop a linear regression model (for comparison)\n",
    "x = df['x']\n",
    "y = df['y']\n",
    "fit = np.polyfit(x, y, deg=1)\n",
    "_x = np.linspace(x.min(), x.max(), num=len(y))\n",
    " \n",
    "# develop the quantile regression model for six quantiles\n",
    "model = smf.quantreg('y ~ x', df)\n",
    "quantiles = [0.05, 0.1, 0.25, 0.5, 0.75, 0.95]\n",
    "fits = [model.fit(q=q) for q in quantiles]"
   ]
  },
  {
   "cell_type": "code",
   "execution_count": 6,
   "id": "075a5ae3",
   "metadata": {},
   "outputs": [
    {
     "data": {
      "image/png": "[encoded data removed]",
      "text/plain": [
       "<Figure size 432x288 with 1 Axes>"
      ]
     },
     "metadata": {
      "needs_background": "light"
     },
     "output_type": "display_data"
    }
   ],
   "source": [
    "# the quantile lines\n",
    "_y_005 = fits[0].params['x'] * _x + fits[0].params['Intercept']\n",
    "_y_095 = fits[5].params['x'] * _x + fits[5].params['Intercept']\n",
    " \n",
    "# start and end coordinates of the quantile lines\n",
    "p = np.column_stack((x, y))\n",
    "a = np.array([_x[0], _y_005[0]]) #first point of 0.05 quantile fit line\n",
    "b = np.array([_x[-1], _y_005[-1]]) #last point of 0.05 quantile fit line\n",
    "a_ = np.array([_x[0], _y_095[0]])\n",
    "b_ = np.array([_x[-1], _y_095[-1]])\n",
    " \n",
    "#mask for coordinates above 0.95 or below 0.05 quantile lines\n",
    "mask = lambda p, a, b, a_, b_: (np.cross(p-a, b-a) > 0) | (np.cross(p-a_, b_-a_) < 0)\n",
    "mask = mask(p, a, b, a_, b_)\n",
    " \n",
    "# generate the plots\n",
    "figure, axes = plt.subplots()\n",
    "axes.scatter(x[mask], df['y'][mask], facecolor='r', edgecolor='none', alpha=0.3, label='data point')\n",
    "axes.scatter(x[~mask], df['y'][~mask], facecolor='g', edgecolor='none', alpha=0.3, label='data point')\n",
    "axes.plot(x, fit[0] * x + fit[1], label='best fit', c='lightgrey')\n",
    "axes.plot(_x, _y_095, label=quantiles[5], c='orange')\n",
    "axes.plot(_x, _y_005, label=quantiles[0], c='lightblue')\n",
    "axes.legend()\n",
    "axes.set_xlabel('x')\n",
    "axes.set_ylabel('y')\n",
    "plt.show()\n"
   ]
  },
  {
   "cell_type": "code",
   "execution_count": null,
   "id": "8230b05c",
   "metadata": {},
   "outputs": [],
   "source": []
  }
 ],
 "metadata": {
  "kernelspec": {
   "display_name": "Python 3",
   "language": "python",
   "name": "python3"
  },
  "language_info": {
   "codemirror_mode": {
    "name": "ipython",
    "version": 3
   },
   "file_extension": ".py",
   "mimetype": "text/x-python",
   "name": "python",
   "nbconvert_exporter": "python",
   "pygments_lexer": "ipython3",
   "version": "3.8.8"
  }
 },
 "nbformat": 4,
 "nbformat_minor": 5
}
