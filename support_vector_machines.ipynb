{
 "cells": [
  {
   "cell_type": "code",
   "execution_count": 4,
   "id": "3cad4521",
   "metadata": {},
   "outputs": [],
   "source": [
    "import numpy as np\n",
    "import pandas as pd"
   ]
  },
  {
   "cell_type": "code",
   "execution_count": 5,
   "id": "61dc4d77",
   "metadata": {},
   "outputs": [],
   "source": [
    "df = pd.read_csv('./data/loan200.csv')"
   ]
  },
  {
   "cell_type": "code",
   "execution_count": 6,
   "id": "1e2527d2",
   "metadata": {},
   "outputs": [
    {
     "data": {
      "text/html": [
       "<div>\n",
       "<style scoped>\n",
       "    .dataframe tbody tr th:only-of-type {\n",
       "        vertical-align: middle;\n",
       "    }\n",
       "\n",
       "    .dataframe tbody tr th {\n",
       "        vertical-align: top;\n",
       "    }\n",
       "\n",
       "    .dataframe thead th {\n",
       "        text-align: right;\n",
       "    }\n",
       "</style>\n",
       "<table border=\"1\" class=\"dataframe\">\n",
       "  <thead>\n",
       "    <tr style=\"text-align: right;\">\n",
       "      <th></th>\n",
       "      <th>outcome</th>\n",
       "      <th>payment_inc_ratio</th>\n",
       "      <th>dti</th>\n",
       "    </tr>\n",
       "  </thead>\n",
       "  <tbody>\n",
       "    <tr>\n",
       "      <th>0</th>\n",
       "      <td>default</td>\n",
       "      <td>5.46933</td>\n",
       "      <td>21.33</td>\n",
       "    </tr>\n",
       "    <tr>\n",
       "      <th>1</th>\n",
       "      <td>paid off</td>\n",
       "      <td>6.90294</td>\n",
       "      <td>8.97</td>\n",
       "    </tr>\n",
       "    <tr>\n",
       "      <th>2</th>\n",
       "      <td>paid off</td>\n",
       "      <td>11.14800</td>\n",
       "      <td>1.83</td>\n",
       "    </tr>\n",
       "    <tr>\n",
       "      <th>3</th>\n",
       "      <td>default</td>\n",
       "      <td>3.72120</td>\n",
       "      <td>10.81</td>\n",
       "    </tr>\n",
       "    <tr>\n",
       "      <th>4</th>\n",
       "      <td>paid off</td>\n",
       "      <td>1.89923</td>\n",
       "      <td>11.34</td>\n",
       "    </tr>\n",
       "  </tbody>\n",
       "</table>\n",
       "</div>"
      ],
      "text/plain": [
       "    outcome  payment_inc_ratio    dti\n",
       "0   default            5.46933  21.33\n",
       "1  paid off            6.90294   8.97\n",
       "2  paid off           11.14800   1.83\n",
       "3   default            3.72120  10.81\n",
       "4  paid off            1.89923  11.34"
      ]
     },
     "execution_count": 6,
     "metadata": {},
     "output_type": "execute_result"
    }
   ],
   "source": [
    "df.head()"
   ]
  },
  {
   "cell_type": "code",
   "execution_count": 7,
   "id": "ddcd8532",
   "metadata": {},
   "outputs": [
    {
     "name": "stdout",
     "output_type": "stream",
     "text": [
      "(200, 3)\n"
     ]
    }
   ],
   "source": [
    "print(df.shape)\n",
    "x = df.drop('outcome', axis=1)\n",
    "y = df['outcome']"
   ]
  },
  {
   "cell_type": "code",
   "execution_count": 10,
   "id": "f604d516",
   "metadata": {},
   "outputs": [],
   "source": [
    "from sklearn.model_selection import train_test_split\n",
    "x_train, x_test, y_train, y_test = train_test_split(x, y, test_size = 0.20)"
   ]
  },
  {
   "cell_type": "code",
   "execution_count": 14,
   "id": "076ab4e7",
   "metadata": {},
   "outputs": [],
   "source": [
    "def classify(kernelName):\n",
    "    from sklearn.svm import SVC\n",
    "    if kernelName == 'poly':\n",
    "        svclassifier = SVC(kernel='poly',degree=8)\n",
    "        print(kernelName)\n",
    "    else:\n",
    "        svclassifier = SVC(kernel=kernelName)\n",
    "        print(kernelName)\n",
    "    svclassifier.fit(x_train, y_train)\n",
    "    y_pred = svclassifier.predict(x_test)\n",
    "    from sklearn.metrics import accuracy_score\n",
    "    return accuracy_score(y_test, y_pred)"
   ]
  },
  {
   "cell_type": "code",
   "execution_count": 15,
   "id": "c91fd008",
   "metadata": {},
   "outputs": [
    {
     "name": "stdout",
     "output_type": "stream",
     "text": [
      "linear\n",
      "Linear Accuracy: 0.675\n",
      "poly\n",
      "Polynomial Accuracy: 0.7\n",
      "rbf\n",
      "Gaussian Accuracy: 0.625\n",
      "sigmoid\n",
      "Sigmoid Accuracy: 0.4\n"
     ]
    }
   ],
   "source": [
    "print(\"Linear Accuracy:\",classify('linear'))\n",
    "print(\"Polynomial Accuracy:\",classify('poly'))\n",
    "print(\"Gaussian Accuracy:\",classify('rbf'))\n",
    "print(\"Sigmoid Accuracy:\",classify('sigmoid'))"
   ]
  },
  {
   "cell_type": "code",
   "execution_count": null,
   "id": "f137b3fe",
   "metadata": {},
   "outputs": [],
   "source": []
  }
 ],
 "metadata": {
  "kernelspec": {
   "display_name": "Python 3",
   "language": "python",
   "name": "python3"
  },
  "language_info": {
   "codemirror_mode": {
    "name": "ipython",
    "version": 3
   },
   "file_extension": ".py",
   "mimetype": "text/x-python",
   "name": "python",
   "nbconvert_exporter": "python",
   "pygments_lexer": "ipython3",
   "version": "3.8.8"
  }
 },
 "nbformat": 4,
 "nbformat_minor": 5
}
